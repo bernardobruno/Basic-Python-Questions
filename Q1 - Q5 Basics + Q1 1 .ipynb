{
 "cells": [
  {
   "cell_type": "code",
   "execution_count": 2,
   "metadata": {},
   "outputs": [
    {
     "name": "stdout",
     "output_type": "stream",
     "text": [
      "The ages of the customers is: [11, 13, 14, 15, 16, 22, 25, 26, 27, 42]\n"
     ]
    }
   ],
   "source": [
    "#Q1\n",
    "\n",
    "year_birth=[1999, 1995, 2005, 2010, 2007, 2006, 1994, 1996, 1979, 2008]\n",
    "for x in range(len(year_birth)):\n",
    "    year_birth[x]=2021-year_birth[x]\n",
    "    year_birth.sort()\n",
    "print(\"The ages of the customers is: \" + str(year_birth))"
   ]
  },
  {
   "cell_type": "code",
   "execution_count": 5,
   "metadata": {},
   "outputs": [
    {
     "name": "stdout",
     "output_type": "stream",
     "text": [
      "[9, 11, 12, 13, 14, 20, 23, 24, 25, 40]\n",
      "[11, 12, 13, 14, 20, 23, 24, 25]\n"
     ]
    }
   ],
   "source": [
    "#Q2\n",
    "\n",
    "age = [20, 24, 14, 9, 12, 13, 25, 23, 40, 11]\n",
    "age_clean = age.copy()\n",
    "age_clean.sort()\n",
    "print(age_clean)\n",
    "age_clean.pop(0)\n",
    "age_clean.pop(-1)\n",
    "print(age_clean)"
   ]
  },
  {
   "cell_type": "code",
   "execution_count": 7,
   "metadata": {},
   "outputs": [],
   "source": [
    "#Q3\n",
    "\n",
    "berlin = [15, 13, 16, 18, 19, 10, 12 ]\n",
    "munich = [7, 13, 15, 20, 19, 18, 10, 16]\n",
    "\n",
    "def common_items(list1, list2):\n",
    "   return list(set(list1) & set(list2)) \n",
    "combined = common_items(berlin, munich)"
   ]
  },
  {
   "cell_type": "code",
   "execution_count": 8,
   "metadata": {},
   "outputs": [
    {
     "data": {
      "text/plain": [
       "[10, 13, 15, 16, 18, 19]"
      ]
     },
     "execution_count": 8,
     "metadata": {},
     "output_type": "execute_result"
    }
   ],
   "source": [
    "combined"
   ]
  },
  {
   "cell_type": "code",
   "execution_count": 12,
   "metadata": {},
   "outputs": [],
   "source": [
    "#Q4\n",
    "\n",
    "listA = [15, 13, 16, 18, 19, 10, 12]\n",
    "listB = [7, 13, 15, 20, 19, 18, 10, 16]\n",
    "\n",
    "def findCommons(listA, listB):\n",
    "    result = []\n",
    "    for counter in range(len(listA)):\n",
    "        if (listA[counter] in listB) & (listA[counter] not in result):\n",
    "            result.append(listA[counter])\n",
    "    return sorted(result)\n",
    "    print(result)"
   ]
  },
  {
   "cell_type": "code",
   "execution_count": 13,
   "metadata": {},
   "outputs": [
    {
     "data": {
      "text/plain": [
       "2"
      ]
     },
     "execution_count": 13,
     "metadata": {},
     "output_type": "execute_result"
    }
   ],
   "source": [
    "1 + 1 "
   ]
  },
  {
   "cell_type": "code",
   "execution_count": 14,
   "metadata": {},
   "outputs": [
    {
     "name": "stdout",
     "output_type": "stream",
     "text": [
      "[10, 13, 15, 15, 16, 18, 19]\n",
      "{10, 13, 15, 16, 18, 19}\n"
     ]
    }
   ],
   "source": [
    "#Q4\n",
    "\n",
    "age = [15, 13, 16, 18, 19, 15, 10]\n",
    "\n",
    "age.sort()\n",
    "print(age)\n",
    "\n",
    "dup_items = set()\n",
    "uniq_items = []\n",
    "for x in age:\n",
    "    if x not in dup_items:\n",
    "        uniq_items.append(x)\n",
    "        dup_items.add(x)\n",
    "print(dup_items)"
   ]
  },
  {
   "cell_type": "code",
   "execution_count": 15,
   "metadata": {},
   "outputs": [
    {
     "name": "stdout",
     "output_type": "stream",
     "text": [
      "[15, 13, 16, 18, 19, 10]\n"
     ]
    }
   ],
   "source": [
    "duplicated_ages = [15,13,16,18,19,15,10]\n",
    "ages = []\n",
    "for i in duplicated_ages:         \n",
    "    if i not in ages:\n",
    "         ages.append(i)\n",
    "    elif i in ages:\n",
    "        continue # --- why ? # functions, continue/break\n",
    "print(ages)"
   ]
  },
  {
   "cell_type": "code",
   "execution_count": null,
   "metadata": {},
   "outputs": [],
   "source": [
    "#Q5\n",
    "\n",
    "import numpy as np \n",
    "def a_is_in(a, b):\n",
    "    list1 = np.array(a)\n",
    "    list2 = np.array(b)\n",
    "    if list1 in list2:\n",
    "        return True\n",
    "    else:\n",
    "        return False\n",
    "    return\n",
    "\n",
    "a = [15]\n",
    "b = [15, 13, 16, 18, 19, 15, 10]\n",
    "\n",
    "_is_in = a_is_in(a,b)\n",
    "print(_is_in)"
   ]
  },
  {
   "cell_type": "code",
   "execution_count": 19,
   "metadata": {},
   "outputs": [
    {
     "name": "stdout",
     "output_type": "stream",
     "text": [
      "False\n"
     ]
    }
   ],
   "source": [
    "#Q5\n",
    "\n",
    "import numpy as np \n",
    "def a_is_in(a, b):\n",
    "    list1 = np.array(a)\n",
    "    list2 = np.array(b)\n",
    "    if list1 in list2:\n",
    "        return True\n",
    "    else:\n",
    "        return False\n",
    "    return\n",
    "\n",
    "a = [28]\n",
    "b = [15, 13, 16, 18, 19, 15, 10]\n",
    "\n",
    "_is_in = a_is_in(a,b)\n",
    "print(_is_in)"
   ]
  },
  {
   "cell_type": "code",
   "execution_count": 3,
   "metadata": {},
   "outputs": [],
   "source": [
    "x = [23,24,43,67]"
   ]
  },
  {
   "cell_type": "code",
   "execution_count": 4,
   "metadata": {},
   "outputs": [
    {
     "data": {
      "text/plain": [
       "False"
      ]
     },
     "execution_count": 4,
     "metadata": {},
     "output_type": "execute_result"
    }
   ],
   "source": [
    "10 in x\n"
   ]
  },
  {
   "cell_type": "code",
   "execution_count": 5,
   "metadata": {},
   "outputs": [
    {
     "data": {
      "text/plain": [
       "True"
      ]
     },
     "execution_count": 5,
     "metadata": {},
     "output_type": "execute_result"
    }
   ],
   "source": [
    "24 in x"
   ]
  },
  {
   "cell_type": "code",
   "execution_count": 6,
   "metadata": {},
   "outputs": [],
   "source": [
    "age_list = [23,24,43,67]"
   ]
  },
  {
   "cell_type": "code",
   "execution_count": 18,
   "metadata": {},
   "outputs": [],
   "source": [
    "def anyname(ages, age):\n",
    "    if age in ages:\n",
    "        return \"anystringoranynumber\"\n",
    "    else:\n",
    "        return \"elsething\"\n",
    "        "
   ]
  },
  {
   "cell_type": "code",
   "execution_count": 21,
   "metadata": {},
   "outputs": [],
   "source": [
    "result = anyname(age_list, 23)"
   ]
  },
  {
   "cell_type": "code",
   "execution_count": 22,
   "metadata": {},
   "outputs": [
    {
     "data": {
      "text/plain": [
       "'anystringoranynumber'"
      ]
     },
     "execution_count": 22,
     "metadata": {},
     "output_type": "execute_result"
    }
   ],
   "source": [
    "result"
   ]
  },
  {
   "cell_type": "code",
   "execution_count": 22,
   "metadata": {},
   "outputs": [
    {
     "name": "stdout",
     "output_type": "stream",
     "text": [
      "11\n",
      "160\n",
      "3\n"
     ]
    }
   ],
   "source": [
    "#Intermediate Level - Set 1\n",
    "# Q1\n",
    "\n",
    "inputs = [[2, 4, 0, 100, 4, 11, 2602, 36], # --- Should return: 11 (the only odd number)\n",
    "\n",
    "[160, 3, 1719, 19, 11, 13, -21], # --- Should return: 160 (the only even number)\n",
    "\n",
    "[2, 4, 6, 8, 10, 3],] # --- Should return: 3\n",
    "\n",
    "def outlier(array):\n",
    "    in_list = list(array)\n",
    "    is_even = True\n",
    "    l_1 = in_list[0]%2 ==0\n",
    "    l_2 = in_list[1]%2 ==0\n",
    "    l_3 = in_list[2]%2 ==0\n",
    "    \n",
    "    if l_1:\n",
    "        if l_1 and l_2:\n",
    "            pass\n",
    "        elif l_1 and l_3:    \n",
    "            pass\n",
    "        else:\n",
    "            is_even = False\n",
    "\n",
    "    elif not l_1:\n",
    "        if not l_1 and not l_2:\n",
    "            is_even = False\n",
    "        elif not l_1 and not l_3:\n",
    "            is_even = False\n",
    "        else:\n",
    "            pass\n",
    "       \n",
    "    if is_even:\n",
    "        for x in in_list:\n",
    "            if x % 2 != 0: return x\n",
    "    else:\n",
    "        for x in in_list:\n",
    "            if x % 2 == 0: return x\n",
    "for l in inputs:\n",
    "    print(outlier(l))\n"
   ]
  },
  {
   "cell_type": "code",
   "execution_count": null,
   "metadata": {},
   "outputs": [],
   "source": [
    "1 + 1 * 2"
   ]
  },
  {
   "cell_type": "code",
   "execution_count": null,
   "metadata": {},
   "outputs": [],
   "source": []
  },
  {
   "cell_type": "code",
   "execution_count": null,
   "metadata": {},
   "outputs": [],
   "source": []
  }
 ],
 "metadata": {
  "kernelspec": {
   "display_name": "Python 3",
   "language": "python",
   "name": "python3"
  },
  "language_info": {
   "codemirror_mode": {
    "name": "ipython",
    "version": 3
   },
   "file_extension": ".py",
   "mimetype": "text/x-python",
   "name": "python",
   "nbconvert_exporter": "python",
   "pygments_lexer": "ipython3",
   "version": "3.8.5"
  }
 },
 "nbformat": 4,
 "nbformat_minor": 4
}
